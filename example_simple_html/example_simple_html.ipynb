{
 "cells": [
  {
   "cell_type": "markdown",
   "metadata": {},
   "source": [
    "# Simple HTML Study\n",
    "\n",
    "Here we will get familiar with the syntax of the reVISitPy package. To do this, we'll recreate the config for the simple html study [here](https://github.com/revisit-studies/study/blob/main/public/demo-html-input/config.json). We'll start by first creating the study metadata and the UI configuration."
   ]
  },
  {
   "cell_type": "code",
   "execution_count": 1,
   "metadata": {},
   "outputs": [],
   "source": [
    "import revisitpy as rvt\n",
    "\n",
    "study_metadata = rvt.studyMetadata(\n",
    "    title='Passing Data From reVISit to HTML and back',\n",
    "    version='pilot',\n",
    "    authors=[\n",
    "        'The reVISit Team',\n",
    "        'reVISitPy'\n",
    "    ],\n",
    "    date='2025-01-20',\n",
    "    description=\"A demo of how to pass visualization data from reVISit to HTML and send user answers from HTML back to the reVISit.\",\n",
    "    organizations=[\n",
    "        \"University of Utah\",\n",
    "        \"WPI\",\n",
    "        \"University of Toronto\"\n",
    "    ]\n",
    ")\n",
    "\n",
    "ui_config = rvt.uiConfig(\n",
    "    contactEmail=\"contact@revisit.dev\",\n",
    "    helpTextPath=\"demo-html-input/assets/help.md\",\n",
    "    logoPath=\"revisitAssets/revisitLogoSquare.svg\",\n",
    "    withProgressBar=True,\n",
    "    autoDownloadStudy=False,\n",
    "    autoDownloadTime=5000,\n",
    "    sidebar=False\n",
    ")"
   ]
  },
  {
   "cell_type": "code",
   "execution_count": null,
   "metadata": {},
   "outputs": [],
   "source": [
    "response_one = rvt.response(\n",
    "    id='barChart',\n",
    "    prompt='Your selected answer:',\n",
    "    location='belowStimulus',\n",
    "    # type='reactive'\n",
    "    type='iframe'\n",
    ")\n",
    "\n",
    "base_component = rvt.component(\n",
    "    component_name__='bar-chart',\n",
    "    type='website',\n",
    "    response=[response_one],\n",
    "    path=\"demo-html-input/assets/bar-chart-interaction.html\",\n",
    "    instructionLocation='aboveStimulus'\n",
    ")\n",
    "\n",
    "comp_one = rvt.component(\n",
    "    base__=base_component,\n",
    "    component_name='bar-chart-1',\n",
    "    description=\"A trial for the user to click the largest bar\",\n",
    "    instruction='Click on the largest bar',\n",
    "    parameters={\n",
    "        \"barData\": [\n",
    "            0.32,\n",
    "            0.01,\n",
    "            1.2,\n",
    "            1.3,\n",
    "            0.82,\n",
    "            0.4,\n",
    "            0.3\n",
    "        ]\n",
    "    }\n",
    ")\n",
    "\n",
    "comp_two = rvt.component(\n",
    "    base__=base_component,\n",
    "    component_name='bar-chart-2',\n",
    "    description=\"A trial for the user to click the smallest bar\",\n",
    "    instruction='Click on the smallest bar',\n",
    "    parameters={\n",
    "        \"barData\": [\n",
    "            1.2,\n",
    "            1.2,\n",
    "            1.2,\n",
    "            1.3,\n",
    "            0.82,\n",
    "            0.4,\n",
    "            0.3\n",
    "        ]\n",
    "    }\n",
    ")"
   ]
  }
 ],
 "metadata": {
  "kernelspec": {
   "display_name": ".venv",
   "language": "python",
   "name": "python3"
  },
  "language_info": {
   "codemirror_mode": {
    "name": "ipython",
    "version": 3
   },
   "file_extension": ".py",
   "mimetype": "text/x-python",
   "name": "python",
   "nbconvert_exporter": "python",
   "pygments_lexer": "ipython3",
   "version": "3.12.5"
  }
 },
 "nbformat": 4,
 "nbformat_minor": 2
}
