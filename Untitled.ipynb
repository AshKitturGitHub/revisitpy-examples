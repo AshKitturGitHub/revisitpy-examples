{
 "cells": [
  {
   "cell_type": "code",
   "execution_count": 2,
   "id": "783ae682-92df-40f1-bf27-1264c25b6eba",
   "metadata": {},
   "outputs": [
    {
     "ename": "AttributeError",
     "evalue": "module 'revisitpy' has no attribute 'inputText'",
     "output_type": "error",
     "traceback": [
      "\u001b[31m---------------------------------------------------------------------------\u001b[39m",
      "\u001b[31mAttributeError\u001b[39m                            Traceback (most recent call last)",
      "\u001b[36mCell\u001b[39m\u001b[36m \u001b[39m\u001b[32mIn[2]\u001b[39m\u001b[32m, line 10\u001b[39m\n\u001b[32m      2\u001b[39m sys.path.append(\u001b[33mr\u001b[39m\u001b[33m\"\u001b[39m\u001b[33mC:\u001b[39m\u001b[33m\\\u001b[39m\u001b[33mUsers\u001b[39m\u001b[33m\\\u001b[39m\u001b[33mashto\u001b[39m\u001b[33m\\\u001b[39m\u001b[33mDownloads\u001b[39m\u001b[33m\\\u001b[39m\u001b[33mrevisitpy-examples\u001b[39m\u001b[33m\"\u001b[39m)\n\u001b[32m      4\u001b[39m \u001b[38;5;28;01mimport\u001b[39;00m\u001b[38;5;250m \u001b[39m\u001b[34;01mrevisitpy\u001b[39;00m\u001b[38;5;250m \u001b[39m\u001b[38;5;28;01mas\u001b[39;00m\u001b[38;5;250m \u001b[39m\u001b[34;01mrvt\u001b[39;00m\n\u001b[32m      6\u001b[39m study_metadata = rvt.studyMetadata(\n\u001b[32m      7\u001b[39m     title=\u001b[33m'\u001b[39m\u001b[33mPassing Data From reVISit to HTML and back\u001b[39m\u001b[33m'\u001b[39m,\n\u001b[32m      8\u001b[39m     version=\u001b[33m'\u001b[39m\u001b[33mpilot\u001b[39m\u001b[33m'\u001b[39m,\n\u001b[32m      9\u001b[39m     inputs=[\n\u001b[32m---> \u001b[39m\u001b[32m10\u001b[39m         \u001b[43mrvt\u001b[49m\u001b[43m.\u001b[49m\u001b[43minputText\u001b[49m(name=\u001b[33m\"\u001b[39m\u001b[33mname\u001b[39m\u001b[33m\"\u001b[39m, label=\u001b[33m\"\u001b[39m\u001b[33mName\u001b[39m\u001b[33m\"\u001b[39m),\n\u001b[32m     11\u001b[39m         rvt.inputSelect(name=\u001b[33m\"\u001b[39m\u001b[33mfavorite_color\u001b[39m\u001b[33m\"\u001b[39m, label=\u001b[33m\"\u001b[39m\u001b[33mFavorite Color\u001b[39m\u001b[33m\"\u001b[39m, options=[\u001b[33m\"\u001b[39m\u001b[33mRed\u001b[39m\u001b[33m\"\u001b[39m, \u001b[33m\"\u001b[39m\u001b[33mBlue\u001b[39m\u001b[33m\"\u001b[39m, \u001b[33m\"\u001b[39m\u001b[33mGreen\u001b[39m\u001b[33m\"\u001b[39m]),\n\u001b[32m     12\u001b[39m     ]\n\u001b[32m     13\u001b[39m )\n\u001b[32m     15\u001b[39m study = rvt.study(study_metadata)\n\u001b[32m     17\u001b[39m w = rvt.widget(study, server=\u001b[38;5;28;01mTrue\u001b[39;00m)\n",
      "\u001b[31mAttributeError\u001b[39m: module 'revisitpy' has no attribute 'inputText'"
     ]
    }
   ],
   "source": [
    "import sys\n",
    "sys.path.append(r\"C:\\Users\\ashto\\Downloads\\revisitpy-examples\")\n",
    "\n",
    "import revisitpy as rvt\n",
    "\n",
    "study_metadata = rvt.studyMetadata(\n",
    "    title='Passing Data From reVISit to HTML and back',\n",
    "    version='pilot',\n",
    "    inputs=[\n",
    "        rvt.inputText(name=\"name\", label=\"Name\"),\n",
    "        rvt.inputSelect(name=\"favorite_color\", label=\"Favorite Color\", options=[\"Red\", \"Blue\", \"Green\"]),\n",
    "    ]\n",
    ")\n",
    "\n",
    "study = rvt.study(study_metadata)\n",
    "\n",
    "w = rvt.widget(study, server=True)\n",
    "w\n",
    "\n"
   ]
  },
  {
   "cell_type": "code",
   "execution_count": null,
   "id": "f59d5d56-ee9c-4f14-b927-6a13b764c821",
   "metadata": {},
   "outputs": [],
   "source": []
  }
 ],
 "metadata": {
  "kernelspec": {
   "display_name": "Python 3 (ipykernel)",
   "language": "python",
   "name": "python3"
  },
  "language_info": {
   "codemirror_mode": {
    "name": "ipython",
    "version": 3
   },
   "file_extension": ".py",
   "mimetype": "text/x-python",
   "name": "python",
   "nbconvert_exporter": "python",
   "pygments_lexer": "ipython3",
   "version": "3.12.6"
  }
 },
 "nbformat": 4,
 "nbformat_minor": 5
}
